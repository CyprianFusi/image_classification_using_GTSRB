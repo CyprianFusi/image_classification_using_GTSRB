{
 "cells": [
  {
   "cell_type": "markdown",
   "metadata": {},
   "source": [
    "The German Traffic Sign Recognition Benchmark **(GTSRB)** dataset offers more than `50,000` images arranged in `42` classes (traffic\n",
    "signs), which allows you to create a **multiclass** classification problem. In a multiclass\n",
    "classification problem, you state the probability of the image’s being part of\n",
    "a class and take the highest probability as the correct answer. For instance, an\n",
    "“Attention: Construction Site” sign will cause the classification algorithm to generate\n",
    "high probabilities for all attention signs. (The highest probability should\n",
    "match its class.)"
   ]
  },
  {
   "cell_type": "code",
   "execution_count": 1,
   "metadata": {},
   "outputs": [],
   "source": [
    "import warnings\n",
    "warnings.filterwarnings('ignore')"
   ]
  },
  {
   "cell_type": "markdown",
   "metadata": {},
   "source": [
    "# Import required packages and modules"
   ]
  },
  {
   "cell_type": "code",
   "execution_count": 6,
   "metadata": {},
   "outputs": [],
   "source": [
    "import numpy as np\n",
    "import zipfile\n",
    "import pprint\n",
    "from skimage.transform import resize\n",
    "from skimage.io import imread\n",
    "import urllib.request\n",
    "import matplotlib.pyplot as plt\n",
    "%matplotlib inline"
   ]
  },
  {
   "cell_type": "code",
   "execution_count": 5,
   "metadata": {},
   "outputs": [
    {
     "name": "stdout",
     "output_type": "stream",
     "text": [
      "2.0.0-beta1\n"
     ]
    }
   ],
   "source": [
    "import tensorflow as tf\n",
    "from tensorflow import keras\n",
    "print(tf.__version__)"
   ]
  },
  {
   "cell_type": "markdown",
   "metadata": {},
   "source": [
    "# Getting the GTSRB Dataset from source"
   ]
  },
  {
   "cell_type": "markdown",
   "metadata": {},
   "source": [
    "The data can be optained from the authors using the url below. If you face problems with your firewall and if the network is slow you can download the dataset manually from the same site. There is also an alternative site provided below or you can simply search using google."
   ]
  },
  {
   "cell_type": "code",
   "execution_count": null,
   "metadata": {},
   "outputs": [],
   "source": [
    "#url = \"http://benchmark.ini.rub.de/Dataset/GTSRB_Final_Training_Images.zip\"\n",
    "#file_dir = \"./data/GTSRB_Final_Training_Images.zip\"  \n",
    "#urllib.request.urlretrieve(url, file_dir)"
   ]
  },
  {
   "cell_type": "markdown",
   "metadata": {},
   "source": [
    "Alternative source of the dataset https://sid.erda.dk/public/archives/daaeac0d7ce1152aea9b61d9f1e19370/published-archive.html"
   ]
  },
  {
   "cell_type": "code",
   "execution_count": 8,
   "metadata": {},
   "outputs": [],
   "source": [
    "filename = \"./data/GTSRB_Final_Training_Images.zip\"\n",
    "archive = zipfile.ZipFile(filename, 'r')\n",
    "file_paths = [file for file in archive.namelist() if '.ppm' in file]"
   ]
  },
  {
   "cell_type": "code",
   "execution_count": 9,
   "metadata": {},
   "outputs": [],
   "source": [
    "IMG_SIZE = 32\n",
    "TEST_SIZE = 0.2\n",
    "X_train, X_test, y_train, y_test = list(), list(), list(), list()"
   ]
  },
  {
   "cell_type": "code",
   "execution_count": 10,
   "metadata": {},
   "outputs": [],
   "source": [
    "for filename in file_paths:\n",
    "    img = imread(archive.open(filename))\n",
    "    img = resize(img, output_shape = (IMG_SIZE, IMG_SIZE), mode = 'reflect')\n",
    "    img_class = int(filename.split('/')[-2])\n",
    "    if (hash(filename) % 1000) / 1000 > TEST_SIZE:\n",
    "        X_train.append(img)\n",
    "        y_train.append(img_class)\n",
    "    else:\n",
    "        X_test.append(img)\n",
    "        y_test.append(img_class)\n",
    "archive.close()"
   ]
  },
  {
   "cell_type": "code",
   "execution_count": 11,
   "metadata": {},
   "outputs": [
    {
     "name": "stdout",
     "output_type": "stream",
     "text": [
      "Train size:31488 \n",
      "Test size:7721 (0.197)\n"
     ]
    }
   ],
   "source": [
    "print('X_train shape:', X_train.shape)\n",
    "print('X_val shape:', X_test.shape)\n",
    "test_ratio = len(X_test) / len(file_paths)\n",
    "print(\"Train size:{} \\nTest size:{} ({:0.3f})\".format(len(X_train), len(X_test), test_ratio))"
   ]
  },
  {
   "cell_type": "markdown",
   "metadata": {},
   "source": [
    "The train size is more than `30,000` images, and the test almost is `8,000` (`20%`\n",
    "of the total)."
   ]
  },
  {
   "cell_type": "markdown",
   "metadata": {},
   "source": [
    "Neural networks\n",
    "can learn multiclass problems better when the classes are **balanced** or\n",
    "they tend to concentrate their attention on learning just the more populated\n",
    "classes. The following code checks the distribution of classes..."
   ]
  },
  {
   "cell_type": "code",
   "execution_count": 13,
   "metadata": {},
   "outputs": [
    {
     "name": "stdout",
     "output_type": "stream",
     "text": [
      "No classes: 43\n"
     ]
    },
    {
     "data": {
      "image/png": "[encoded data removed]",
      "text/plain": [
       "<Figure size 432x288 with 1 Axes>"
      ]
     },
     "metadata": {
      "needs_background": "light"
     },
     "output_type": "display_data"
    }
   ],
   "source": [
    "classes, dist = np.unique(y_train + y_test, return_counts = True)\n",
    "NUM_CLASSES = len(classes)\n",
    "print(\"No classes: {}\".format(NUM_CLASSES))\n",
    "plt.bar(classes, dist, align = 'center', alpha = 0.5)\n",
    "plt.show()"
   ]
  },
  {
   "cell_type": "markdown",
   "metadata": {},
   "source": [
    "The plot shows that the classes aren’t balanced. Some traffic signs appear\n",
    "more frequently than others do which is normal (for instance, while driving, stop signs are\n",
    "encountered more frequently than a deer crossing sign). As a solution, we compute a weight, which is a ratio based on frequencies of\n",
    "classes that the neural network uses to increase the signal it receives from rarer\n",
    "examples (signs) and to dump the more frequent ones."
   ]
  },
  {
   "cell_type": "code",
   "execution_count": 14,
   "metadata": {},
   "outputs": [],
   "source": [
    "class_weight = {c:dist[c] / np.sum(dist) for c in classes}"
   ]
  },
  {
   "cell_type": "markdown",
   "metadata": {},
   "source": [
    "# Building the model and Running the classification task"
   ]
  },
  {
   "cell_type": "markdown",
   "metadata": {},
   "source": [
    "We will define the image generator that will retrieve the images in batches (samples of a predefined size) for training\n",
    "and validation, normalizes their values, and applies **augmentation** to fight\n",
    "**overfitting** by slightly shifting and rotating the images. Notice that **augmentation** applies only on the training image generator and not the validation\n",
    "generator, because it’s necessary to test using the original images."
   ]
  },
  {
   "cell_type": "markdown",
   "metadata": {},
   "source": [
    "# Define the Image Data Generator"
   ]
  },
  {
   "cell_type": "code",
   "execution_count": 15,
   "metadata": {},
   "outputs": [],
   "source": [
    "batch_size = 256\n",
    "train_datagen = keras.preprocessing.image.ImageDataGenerator(rescale = 1./255, \n",
    "                                                    rotation_range = 5, \n",
    "                                                    width_shift_range = 0.10, \n",
    "                                                    height_shift_range = 0.10)\n",
    "\n",
    "train_generator = train_datagen.flow(np.array(X_train), keras.utils.to_categorical(y_train), batch_size = batch_size)\n",
    "val_datagen = keras.preprocessing.image.ImageDataGenerator(rescale = 1./255)\n",
    "val_generator = val_datagen.flow(np.array(X_test), keras.utils.to_categorical(y_test), batch_size = batch_size)"
   ]
  },
  {
   "cell_type": "markdown",
   "metadata": {},
   "source": [
    "# Build model"
   ]
  },
  {
   "cell_type": "markdown",
   "metadata": {},
   "source": [
    "The neural network consists of **two convolution layers**, one with `32 channels`, the other\n",
    "with `64`, both working with a kernel of size `(5, 5)`. The convolution-layers are followed\n",
    "by a **dense layer of 768 neurons**. **Dropout** (dropping `40 percent` of the neurons) **regularizes**\n",
    "this last layer and **softmax activates** it (thus the sum of the output probabilities\n",
    "of all classes will sum to `100` percent)."
   ]
  },
  {
   "cell_type": "code",
   "execution_count": 16,
   "metadata": {},
   "outputs": [],
   "source": [
    "def small_cnn():\n",
    "    model = keras.models.Sequential()\n",
    "    model.add(keras.layers.Conv2D(32, (5, 5), padding='same', input_shape=(IMG_SIZE, IMG_SIZE, 3), activation='relu', name = 'Conv2D_layer_1'))\n",
    "    model.add(keras.layers.Conv2D(64, (5, 5), activation='relu', name = 'Conv2D_layer_2'))\n",
    "    model.add(keras.layers.Flatten(name = 'Flatten'))\n",
    "    model.add(keras.layers.Dense(768, activation='relu', name = 'Dense_layer_1'))\n",
    "    model.add(keras.layers.Dropout(0.4, name = 'Dropout'))\n",
    "    model.add(keras.layers.Dense(NUM_CLASSES, activation='softmax', name = 'Dense_layer_2'))\n",
    "    return model"
   ]
  },
  {
   "cell_type": "code",
   "execution_count": 17,
   "metadata": {},
   "outputs": [
    {
     "name": "stdout",
     "output_type": "stream",
     "text": [
      "Model: \"sequential\"\n",
      "_________________________________________________________________\n",
      "Layer (type)                 Output Shape              Param #   \n",
      "=================================================================\n",
      "Conv2D_layer_1 (Conv2D)      (None, 32, 32, 32)        2432      \n",
      "_________________________________________________________________\n",
      "Conv2D_layer_2 (Conv2D)      (None, 28, 28, 64)        51264     \n",
      "_________________________________________________________________\n",
      "Flatten (Flatten)            (None, 50176)             0         \n",
      "_________________________________________________________________\n",
      "Dense_layer_1 (Dense)        (None, 768)               38535936  \n",
      "_________________________________________________________________\n",
      "Dropout (Dropout)            (None, 768)               0         \n",
      "_________________________________________________________________\n",
      "Dense_layer_2 (Dense)        (None, 43)                33067     \n",
      "=================================================================\n",
      "Total params: 38,622,699\n",
      "Trainable params: 38,622,699\n",
      "Non-trainable params: 0\n",
      "_________________________________________________________________\n"
     ]
    }
   ],
   "source": [
    "model = small_cnn()\n",
    "epochs = 100\n",
    "optimizer = keras.optimizers.Adam()\n",
    "model.compile(loss = 'categorical_crossentropy', optimizer = optimizer, metrics = ['accuracy'])\n",
    "model.summary()"
   ]
  },
  {
   "cell_type": "markdown",
   "metadata": {},
   "source": [
    "# Train the model"
   ]
  },
  {
   "cell_type": "markdown",
   "metadata": {},
   "source": [
    "**NOTE**: The training below took about two days to complete on my laptop without *GPU* and which is not *CUDA* enabled."
   ]
  },
  {
   "cell_type": "code",
   "execution_count": 18,
   "metadata": {},
   "outputs": [
    {
     "name": "stdout",
     "output_type": "stream",
     "text": [
      "Epoch 1/100\n",
      "WARNING:tensorflow:From C:\\Users\\Fusi\\anaconda37\\lib\\site-packages\\tensorflow\\python\\ops\\math_grad.py:1250: add_dispatch_support.<locals>.wrapper (from tensorflow.python.ops.array_ops) is deprecated and will be removed in a future version.\n",
      "Instructions for updating:\n",
      "Use tf.where in 2.0, which has the same broadcast rule as np.where\n",
      "123/123 - 1473s - loss: 0.1125 - accuracy: 0.0671 - val_loss: 3.5077 - val_accuracy: 0.0852\n",
      "Epoch 2/100\n",
      "123/123 - 1457s - loss: 0.1030 - accuracy: 0.1229 - val_loss: 3.0388 - val_accuracy: 0.2103\n",
      "Epoch 3/100\n",
      "123/123 - 1454s - loss: 0.0794 - accuracy: 0.2678 - val_loss: 1.9857 - val_accuracy: 0.4507\n",
      "Epoch 4/100\n",
      "123/123 - 1461s - loss: 0.0606 - accuracy: 0.3866 - val_loss: 1.5824 - val_accuracy: 0.5286\n",
      "Epoch 5/100\n",
      "123/123 - 1459s - loss: 0.0519 - accuracy: 0.4531 - val_loss: 1.3260 - val_accuracy: 0.5858\n",
      "Epoch 6/100\n",
      "123/123 - 1463s - loss: 0.0468 - accuracy: 0.4982 - val_loss: 1.0846 - val_accuracy: 0.6635\n",
      "Epoch 7/100\n",
      "123/123 - 1468s - loss: 0.0422 - accuracy: 0.5447 - val_loss: 0.9150 - val_accuracy: 0.7191\n",
      "Epoch 8/100\n",
      "123/123 - 1460s - loss: 0.0382 - accuracy: 0.5818 - val_loss: 0.8138 - val_accuracy: 0.7469\n",
      "Epoch 9/100\n",
      "123/123 - 1459s - loss: 0.0348 - accuracy: 0.6174 - val_loss: 0.7283 - val_accuracy: 0.7678\n",
      "Epoch 10/100\n",
      "123/123 - 1457s - loss: 0.0314 - accuracy: 0.6538 - val_loss: 0.5928 - val_accuracy: 0.8199\n",
      "Epoch 11/100\n",
      "123/123 - 1459s - loss: 0.0285 - accuracy: 0.6837 - val_loss: 0.5370 - val_accuracy: 0.8361\n",
      "Epoch 12/100\n",
      "123/123 - 1460s - loss: 0.0262 - accuracy: 0.7065 - val_loss: 0.4588 - val_accuracy: 0.8694\n",
      "Epoch 13/100\n",
      "123/123 - 1458s - loss: 0.0239 - accuracy: 0.7294 - val_loss: 0.4081 - val_accuracy: 0.8809\n",
      "Epoch 14/100\n",
      "123/123 - 1461s - loss: 0.0219 - accuracy: 0.7507 - val_loss: 0.3729 - val_accuracy: 0.8865\n",
      "Epoch 15/100\n",
      "123/123 - 1465s - loss: 0.0202 - accuracy: 0.7655 - val_loss: 0.3402 - val_accuracy: 0.9000\n",
      "Epoch 16/100\n",
      "123/123 - 1465s - loss: 0.0195 - accuracy: 0.7760 - val_loss: 0.3301 - val_accuracy: 0.9029\n",
      "Epoch 17/100\n",
      "123/123 - 1457s - loss: 0.0187 - accuracy: 0.7869 - val_loss: 0.2789 - val_accuracy: 0.9238\n",
      "Epoch 18/100\n",
      "123/123 - 1458s - loss: 0.0171 - accuracy: 0.8014 - val_loss: 0.2644 - val_accuracy: 0.9272\n",
      "Epoch 19/100\n",
      "123/123 - 1462s - loss: 0.0160 - accuracy: 0.8077 - val_loss: 0.2371 - val_accuracy: 0.9358\n",
      "Epoch 20/100\n",
      "123/123 - 1466s - loss: 0.0158 - accuracy: 0.8145 - val_loss: 0.2313 - val_accuracy: 0.9332\n",
      "Epoch 21/100\n",
      "123/123 - 1462s - loss: 0.0149 - accuracy: 0.8236 - val_loss: 0.2056 - val_accuracy: 0.9414\n",
      "Epoch 22/100\n",
      "123/123 - 1456s - loss: 0.0141 - accuracy: 0.8337 - val_loss: 0.1881 - val_accuracy: 0.9495\n",
      "Epoch 23/100\n",
      "123/123 - 1467s - loss: 0.0135 - accuracy: 0.8377 - val_loss: 0.1989 - val_accuracy: 0.9457\n",
      "Epoch 24/100\n",
      "123/123 - 1460s - loss: 0.0131 - accuracy: 0.8461 - val_loss: 0.1784 - val_accuracy: 0.9492\n",
      "Epoch 25/100\n",
      "123/123 - 1455s - loss: 0.0130 - accuracy: 0.8455 - val_loss: 0.1599 - val_accuracy: 0.9551\n",
      "Epoch 26/100\n",
      "123/123 - 1474s - loss: 0.0122 - accuracy: 0.8565 - val_loss: 0.1673 - val_accuracy: 0.9490\n",
      "Epoch 27/100\n",
      "123/123 - 1473s - loss: 0.0115 - accuracy: 0.8615 - val_loss: 0.1510 - val_accuracy: 0.9582\n",
      "Epoch 28/100\n",
      "123/123 - 1471s - loss: 0.0112 - accuracy: 0.8648 - val_loss: 0.1558 - val_accuracy: 0.9543\n",
      "Epoch 29/100\n",
      "123/123 - 1467s - loss: 0.0111 - accuracy: 0.8665 - val_loss: 0.1436 - val_accuracy: 0.9586\n",
      "Epoch 30/100\n",
      "123/123 - 1441s - loss: 0.0108 - accuracy: 0.8691 - val_loss: 0.1429 - val_accuracy: 0.9590\n",
      "Epoch 31/100\n",
      "123/123 - 1441s - loss: 0.0106 - accuracy: 0.8717 - val_loss: 0.1249 - val_accuracy: 0.9659\n",
      "Epoch 32/100\n",
      "123/123 - 1438s - loss: 0.0103 - accuracy: 0.8752 - val_loss: 0.1419 - val_accuracy: 0.9569\n",
      "Epoch 33/100\n",
      "123/123 - 1448s - loss: 0.0103 - accuracy: 0.8748 - val_loss: 0.1127 - val_accuracy: 0.9693\n",
      "Epoch 34/100\n",
      "123/123 - 1438s - loss: 0.0096 - accuracy: 0.8825 - val_loss: 0.1141 - val_accuracy: 0.9699\n",
      "Epoch 35/100\n",
      "123/123 - 1436s - loss: 0.0095 - accuracy: 0.8825 - val_loss: 0.1105 - val_accuracy: 0.9697\n",
      "Epoch 36/100\n",
      "123/123 - 1435s - loss: 0.0092 - accuracy: 0.8859 - val_loss: 0.0994 - val_accuracy: 0.9741\n",
      "Epoch 37/100\n",
      "123/123 - 1432s - loss: 0.0089 - accuracy: 0.8879 - val_loss: 0.1009 - val_accuracy: 0.9712\n",
      "Epoch 38/100\n",
      "123/123 - 1436s - loss: 0.0091 - accuracy: 0.8887 - val_loss: 0.0973 - val_accuracy: 0.9740\n",
      "Epoch 39/100\n",
      "123/123 - 1433s - loss: 0.0084 - accuracy: 0.8947 - val_loss: 0.1001 - val_accuracy: 0.9712\n",
      "Epoch 40/100\n",
      "123/123 - 1436s - loss: 0.0085 - accuracy: 0.8932 - val_loss: 0.0959 - val_accuracy: 0.9766\n",
      "Epoch 41/100\n",
      "123/123 - 1434s - loss: 0.0086 - accuracy: 0.8967 - val_loss: 0.0959 - val_accuracy: 0.9733\n",
      "Epoch 42/100\n",
      "123/123 - 1436s - loss: 0.0083 - accuracy: 0.8986 - val_loss: 0.0885 - val_accuracy: 0.9749\n",
      "Epoch 43/100\n",
      "123/123 - 1433s - loss: 0.0077 - accuracy: 0.9035 - val_loss: 0.0875 - val_accuracy: 0.9749\n",
      "Epoch 44/100\n",
      "123/123 - 1440s - loss: 0.0078 - accuracy: 0.9026 - val_loss: 0.0955 - val_accuracy: 0.9740\n",
      "Epoch 45/100\n",
      "123/123 - 1443s - loss: 0.0076 - accuracy: 0.9049 - val_loss: 0.0888 - val_accuracy: 0.9745\n",
      "Epoch 46/100\n",
      "123/123 - 1438s - loss: 0.0078 - accuracy: 0.9047 - val_loss: 0.0955 - val_accuracy: 0.9737\n",
      "Epoch 47/100\n",
      "123/123 - 1429s - loss: 0.0074 - accuracy: 0.9095 - val_loss: 0.0909 - val_accuracy: 0.9738\n",
      "Epoch 48/100\n",
      "123/123 - 1475s - loss: 0.0075 - accuracy: 0.9066 - val_loss: 0.0819 - val_accuracy: 0.9773\n",
      "Epoch 49/100\n",
      "123/123 - 1429s - loss: 0.0075 - accuracy: 0.9072 - val_loss: 0.0795 - val_accuracy: 0.9784\n",
      "Epoch 50/100\n",
      "123/123 - 1423s - loss: 0.0067 - accuracy: 0.9153 - val_loss: 0.0748 - val_accuracy: 0.9792\n",
      "Epoch 51/100\n",
      "123/123 - 1436s - loss: 0.0071 - accuracy: 0.9105 - val_loss: 0.0733 - val_accuracy: 0.9810\n",
      "Epoch 52/100\n",
      "123/123 - 1435s - loss: 0.0072 - accuracy: 0.9125 - val_loss: 0.0760 - val_accuracy: 0.9793\n",
      "Epoch 53/100\n",
      "123/123 - 1428s - loss: 0.0066 - accuracy: 0.9174 - val_loss: 0.0887 - val_accuracy: 0.9751\n",
      "Epoch 54/100\n",
      "123/123 - 1420s - loss: 0.0069 - accuracy: 0.9136 - val_loss: 0.0829 - val_accuracy: 0.9786\n",
      "Epoch 55/100\n",
      "123/123 - 1431s - loss: 0.0069 - accuracy: 0.9133 - val_loss: 0.0700 - val_accuracy: 0.9816\n",
      "Epoch 56/100\n",
      "123/123 - 1426s - loss: 0.0064 - accuracy: 0.9191 - val_loss: 0.0797 - val_accuracy: 0.9780\n",
      "Epoch 57/100\n",
      "123/123 - 1424s - loss: 0.0064 - accuracy: 0.9202 - val_loss: 0.0744 - val_accuracy: 0.9781\n",
      "Epoch 58/100\n",
      "123/123 - 1412s - loss: 0.0062 - accuracy: 0.9220 - val_loss: 0.0729 - val_accuracy: 0.9797\n",
      "Epoch 59/100\n",
      "123/123 - 1428s - loss: 0.0061 - accuracy: 0.9231 - val_loss: 0.0623 - val_accuracy: 0.9839\n",
      "Epoch 60/100\n",
      "123/123 - 1458s - loss: 0.0058 - accuracy: 0.9265 - val_loss: 0.0692 - val_accuracy: 0.9824\n",
      "Epoch 61/100\n",
      "123/123 - 1460s - loss: 0.0062 - accuracy: 0.9209 - val_loss: 0.0661 - val_accuracy: 0.9835\n",
      "Epoch 62/100\n",
      "123/123 - 1429s - loss: 0.0058 - accuracy: 0.9263 - val_loss: 0.0619 - val_accuracy: 0.9829\n",
      "Epoch 63/100\n",
      "123/123 - 1422s - loss: 0.0055 - accuracy: 0.9271 - val_loss: 0.0602 - val_accuracy: 0.9842\n",
      "Epoch 64/100\n",
      "123/123 - 1418s - loss: 0.0058 - accuracy: 0.9267 - val_loss: 0.0595 - val_accuracy: 0.9858\n",
      "Epoch 65/100\n",
      "123/123 - 1418s - loss: 0.0059 - accuracy: 0.9263 - val_loss: 0.0588 - val_accuracy: 0.9836\n",
      "Epoch 66/100\n",
      "123/123 - 1415s - loss: 0.0059 - accuracy: 0.9246 - val_loss: 0.0602 - val_accuracy: 0.9839\n",
      "Epoch 67/100\n",
      "123/123 - 1413s - loss: 0.0056 - accuracy: 0.9291 - val_loss: 0.0609 - val_accuracy: 0.9828\n",
      "Epoch 68/100\n",
      "123/123 - 1434s - loss: 0.0056 - accuracy: 0.9285 - val_loss: 0.0626 - val_accuracy: 0.9845\n",
      "Epoch 69/100\n",
      "123/123 - 1418s - loss: 0.0052 - accuracy: 0.9347 - val_loss: 0.0553 - val_accuracy: 0.9849\n",
      "Epoch 70/100\n",
      "123/123 - 1409s - loss: 0.0052 - accuracy: 0.9325 - val_loss: 0.0614 - val_accuracy: 0.9842\n",
      "Epoch 71/100\n",
      "123/123 - 1408s - loss: 0.0052 - accuracy: 0.9344 - val_loss: 0.0558 - val_accuracy: 0.9867\n",
      "Epoch 72/100\n",
      "123/123 - 1407s - loss: 0.0053 - accuracy: 0.9332 - val_loss: 0.0537 - val_accuracy: 0.9867\n",
      "Epoch 73/100\n",
      "123/123 - 1397s - loss: 0.0052 - accuracy: 0.9349 - val_loss: 0.0677 - val_accuracy: 0.9805\n",
      "Epoch 74/100\n",
      "123/123 - 1399s - loss: 0.0051 - accuracy: 0.9353 - val_loss: 0.0569 - val_accuracy: 0.9846\n",
      "Epoch 75/100\n",
      "123/123 - 1395s - loss: 0.0048 - accuracy: 0.9373 - val_loss: 0.0611 - val_accuracy: 0.9846\n"
     ]
    },
    {
     "name": "stdout",
     "output_type": "stream",
     "text": [
      "Epoch 76/100\n",
      "123/123 - 1387s - loss: 0.0052 - accuracy: 0.9337 - val_loss: 0.0592 - val_accuracy: 0.9840\n",
      "Epoch 77/100\n",
      "123/123 - 1387s - loss: 0.0050 - accuracy: 0.9357 - val_loss: 0.0474 - val_accuracy: 0.9882\n",
      "Epoch 78/100\n",
      "123/123 - 1402s - loss: 0.0047 - accuracy: 0.9393 - val_loss: 0.0464 - val_accuracy: 0.9870\n",
      "Epoch 79/100\n",
      "123/123 - 1398s - loss: 0.0047 - accuracy: 0.9378 - val_loss: 0.0502 - val_accuracy: 0.9879\n",
      "Epoch 80/100\n",
      "123/123 - 1399s - loss: 0.0048 - accuracy: 0.9380 - val_loss: 0.0558 - val_accuracy: 0.9842\n",
      "Epoch 81/100\n",
      "123/123 - 1392s - loss: 0.0046 - accuracy: 0.9393 - val_loss: 0.0462 - val_accuracy: 0.9879\n",
      "Epoch 82/100\n",
      "123/123 - 1390s - loss: 0.0046 - accuracy: 0.9403 - val_loss: 0.0452 - val_accuracy: 0.9887\n",
      "Epoch 83/100\n",
      "123/123 - 1387s - loss: 0.0045 - accuracy: 0.9426 - val_loss: 0.0427 - val_accuracy: 0.9884\n",
      "Epoch 84/100\n",
      "123/123 - 1379s - loss: 0.0044 - accuracy: 0.9434 - val_loss: 0.0424 - val_accuracy: 0.9892\n",
      "Epoch 85/100\n",
      "123/123 - 1375s - loss: 0.0046 - accuracy: 0.9404 - val_loss: 0.0463 - val_accuracy: 0.9879\n",
      "Epoch 86/100\n",
      "123/123 - 1371s - loss: 0.0046 - accuracy: 0.9421 - val_loss: 0.0435 - val_accuracy: 0.9883\n",
      "Epoch 87/100\n",
      "123/123 - 1370s - loss: 0.0045 - accuracy: 0.9439 - val_loss: 0.0501 - val_accuracy: 0.9875\n",
      "Epoch 88/100\n",
      "123/123 - 1378s - loss: 0.0046 - accuracy: 0.9415 - val_loss: 0.0455 - val_accuracy: 0.9888\n",
      "Epoch 89/100\n",
      "123/123 - 1399s - loss: 0.0043 - accuracy: 0.9435 - val_loss: 0.0488 - val_accuracy: 0.9871\n",
      "Epoch 90/100\n",
      "123/123 - 1397s - loss: 0.0044 - accuracy: 0.9427 - val_loss: 0.0467 - val_accuracy: 0.9888\n",
      "Epoch 91/100\n",
      "123/123 - 1398s - loss: 0.0043 - accuracy: 0.9440 - val_loss: 0.0432 - val_accuracy: 0.9896\n",
      "Epoch 92/100\n",
      "123/123 - 1397s - loss: 0.0042 - accuracy: 0.9470 - val_loss: 0.0430 - val_accuracy: 0.9892\n",
      "Epoch 93/100\n",
      "123/123 - 1379s - loss: 0.0041 - accuracy: 0.9463 - val_loss: 0.0478 - val_accuracy: 0.9878\n",
      "Epoch 94/100\n",
      "123/123 - 1379s - loss: 0.0043 - accuracy: 0.9451 - val_loss: 0.0580 - val_accuracy: 0.9827\n",
      "Epoch 95/100\n",
      "123/123 - 1397s - loss: 0.0042 - accuracy: 0.9470 - val_loss: 0.0468 - val_accuracy: 0.9875\n",
      "Epoch 96/100\n",
      "123/123 - 1377s - loss: 0.0040 - accuracy: 0.9485 - val_loss: 0.0350 - val_accuracy: 0.9915\n",
      "Epoch 97/100\n",
      "123/123 - 1371s - loss: 0.0039 - accuracy: 0.9500 - val_loss: 0.0371 - val_accuracy: 0.9911\n",
      "Epoch 98/100\n",
      "123/123 - 1372s - loss: 0.0040 - accuracy: 0.9490 - val_loss: 0.0516 - val_accuracy: 0.9837\n",
      "Epoch 99/100\n",
      "123/123 - 1395s - loss: 0.0040 - accuracy: 0.9487 - val_loss: 0.0431 - val_accuracy: 0.9893\n",
      "Epoch 100/100\n",
      "123/123 - 1360s - loss: 0.0039 - accuracy: 0.9488 - val_loss: 0.0376 - val_accuracy: 0.9901\n"
     ]
    }
   ],
   "source": [
    "history = model.fit_generator(train_generator, \n",
    "                              steps_per_epoch = len(X_train) // batch_size, \n",
    "                              validation_data = val_generator, \n",
    "                              validation_steps = len(X_test) // batch_size, \n",
    "                              class_weight = class_weight, \n",
    "                              epochs = epochs,\n",
    "                              verbose = 2)"
   ]
  },
  {
   "cell_type": "markdown",
   "metadata": {},
   "source": [
    "# Model Evaluation "
   ]
  },
  {
   "cell_type": "markdown",
   "metadata": {},
   "source": [
    "Note that the call to `model.fit()` or `model.fit_generator()` returns a `History object`. This object has a member\n",
    "`history`, which is a *dictionary* containing data about everything that happened during training."
   ]
  },
  {
   "cell_type": "code",
   "execution_count": 19,
   "metadata": {},
   "outputs": [
    {
     "name": "stdout",
     "output_type": "stream",
     "text": [
      "dict_keys(['loss', 'accuracy', 'val_loss', 'val_accuracy'])\n"
     ]
    }
   ],
   "source": [
    "print(history.history.keys())"
   ]
  },
  {
   "cell_type": "code",
   "execution_count": 20,
   "metadata": {},
   "outputs": [],
   "source": [
    "train_acc = history.history['accuracy']\n",
    "val_acc = history.history['val_accuracy']\n",
    "train_loss = history.history['loss']\n",
    "val_loss = history.history['val_loss']"
   ]
  },
  {
   "cell_type": "code",
   "execution_count": 48,
   "metadata": {},
   "outputs": [
    {
     "name": "stdout",
     "output_type": "stream",
     "text": [
      "Best Training accuracy: 0.950 or 95.0%\n"
     ]
    }
   ],
   "source": [
    "print('Best Training accuracy: {:0.3f} or {}%'.format(np.max(train_acc), round(np.max(train_acc) * 100, 2)))"
   ]
  },
  {
   "cell_type": "code",
   "execution_count": 49,
   "metadata": {},
   "outputs": [
    {
     "name": "stdout",
     "output_type": "stream",
     "text": [
      "Best validation accuracy: 0.992 or 99.15%\n"
     ]
    }
   ],
   "source": [
    "print('Best validation accuracy: {:0.3f} or {}%'.format(np.max(val_acc), round(np.max(val_acc) * 100, 2)))"
   ]
  },
  {
   "cell_type": "markdown",
   "metadata": {},
   "source": [
    "# Evaluate Training"
   ]
  },
  {
   "cell_type": "code",
   "execution_count": 44,
   "metadata": {},
   "outputs": [],
   "source": [
    "training_loss, training_acc = model.evaluate_generator(train_gen)"
   ]
  },
  {
   "cell_type": "code",
   "execution_count": 45,
   "metadata": {},
   "outputs": [
    {
     "name": "stdout",
     "output_type": "stream",
     "text": [
      "Training Accuracy: 98.53%\n"
     ]
    }
   ],
   "source": [
    "print('Training Accuracy: {}%'.format(round(float(training_acc) * 100, 2)))"
   ]
  },
  {
   "cell_type": "markdown",
   "metadata": {},
   "source": [
    "# Evaluate Validation"
   ]
  },
  {
   "cell_type": "code",
   "execution_count": 46,
   "metadata": {},
   "outputs": [],
   "source": [
    "validation_loss, validation_acc = model.evaluate_generator(val_gen)"
   ]
  },
  {
   "cell_type": "code",
   "execution_count": 47,
   "metadata": {},
   "outputs": [
    {
     "name": "stdout",
     "output_type": "stream",
     "text": [
      "Validation Accuracy: 99.02%\n"
     ]
    }
   ],
   "source": [
    "print('Validation Accuracy: {}%'.format(round(float(validation_acc) * 100, 2)))"
   ]
  },
  {
   "cell_type": "markdown",
   "metadata": {},
   "source": [
    "# Visualize training performance"
   ]
  },
  {
   "cell_type": "code",
   "execution_count": 23,
   "metadata": {},
   "outputs": [
    {
     "data": {
      "text/plain": [
       "<matplotlib.legend.Legend at 0x249e5a5fbc8>"
      ]
     },
     "execution_count": 23,
     "metadata": {},
     "output_type": "execute_result"
    },
    {
     "data": {
      "image/png": "[encoded data removed]",
      "text/plain": [
       "<Figure size 432x288 with 1 Axes>"
      ]
     },
     "metadata": {
      "needs_background": "light"
     },
     "output_type": "display_data"
    },
    {
     "data": {
      "image/png": "[encoded data removed]",
      "text/plain": [
       "<Figure size 432x288 with 1 Axes>"
      ]
     },
     "metadata": {
      "needs_background": "light"
     },
     "output_type": "display_data"
    }
   ],
   "source": [
    "epochs = 100\n",
    "x_epochs = range(1, epochs + 1)\n",
    "\n",
    "plt.plot(x_epochs, train_acc, 'b.', label='Training acc')\n",
    "plt.plot(x_epochs, val_acc, 'b', label='Validation acc')\n",
    "plt.title('Training and validation accuracy')\n",
    "plt.xlabel(\"Epochs\")\n",
    "plt.ylabel(\"Accuracy\")\n",
    "plt.legend()\n",
    "\n",
    "plt.figure()\n",
    "\n",
    "plt.plot(x_epochs, train_loss, 'b.', label='Training loss')\n",
    "plt.plot(x_epochs, val_loss, 'b', label='Validation loss')\n",
    "plt.title('Training and validation loss')\n",
    "plt.xlabel(\"Epochs\")\n",
    "plt.ylabel(\"Loss\")\n",
    "plt.legend()"
   ]
  },
  {
   "cell_type": "markdown",
   "metadata": {},
   "source": [
    "We can see from the plots no *overfitting* of the training data occurred! Also notice how the training and validation accuracies are nearly similar (they nearly converge) at the end of training. We attain a training accuracy above `98%` and a validation accuracy above `99%`! The **validation accuracy is always better than the training accuracy** when using data *augmentation* during training. That is because the validation images are real images (i.e without *augmentation* applied to them) and therefore more “easier” for the model to predict than the training images."
   ]
  },
  {
   "cell_type": "markdown",
   "metadata": {},
   "source": [
    "# Testing the model"
   ]
  },
  {
   "cell_type": "markdown",
   "metadata": {},
   "source": [
    "From the Readme-Images-Final-test.txt file from the authors of the dataset: \"*If you want to publish results based on GTSRB, \n",
    "this data set is to be used for final testing purposes\n",
    "only... There is one directory that contains all test images (`12,630` images) \n",
    "and one text file with annotations (GT-final_test.csv)*.\""
   ]
  },
  {
   "cell_type": "code",
   "execution_count": 24,
   "metadata": {},
   "outputs": [],
   "source": [
    "test_file = \"./data/GTSRB_Final_Test_Images.zip\"\n",
    "test_archive = zipfile.ZipFile(test_file, 'r')\n",
    "test_file_paths = [file for file in test_archive.namelist() if '.ppm' in file]"
   ]
  },
  {
   "cell_type": "code",
   "execution_count": 25,
   "metadata": {},
   "outputs": [],
   "source": [
    "X_test_final = list()\n",
    "for filename in test_file_paths:\n",
    "    img = imread(test_archive.open(filename))\n",
    "    img = resize(img, output_shape = (IMG_SIZE, IMG_SIZE), mode = 'reflect')\n",
    "    X_test_final.append(img)  \n",
    "test_archive.close()"
   ]
  },
  {
   "cell_type": "code",
   "execution_count": 27,
   "metadata": {},
   "outputs": [
    {
     "name": "stdout",
     "output_type": "stream",
     "text": [
      "Size of final test data: 12630\n"
     ]
    }
   ],
   "source": [
    "print('Size of final test data:', len(X_test_final))"
   ]
  },
  {
   "cell_type": "markdown",
   "metadata": {},
   "source": [
    "# View sample images in the final testing data"
   ]
  },
  {
   "cell_type": "code",
   "execution_count": 30,
   "metadata": {},
   "outputs": [
    {
     "data": {
      "image/png": "[encoded data removed]",
      "text/plain": [
       "<Figure size 720x720 with 20 Axes>"
      ]
     },
     "metadata": {},
     "output_type": "display_data"
    }
   ],
   "source": [
    "plt.figure(figsize = (10, 10))\n",
    "for i in range(20):\n",
    "    plt.subplot(4,5,i+1)\n",
    "    plt.xticks([])\n",
    "    plt.yticks([])\n",
    "    plt.grid(False)\n",
    "    plt.imshow(X_test_final[i], cmap=plt.cm.binary)\n",
    "    #plt.xlabel(class_names[train_labels[i]])"
   ]
  },
  {
   "cell_type": "markdown",
   "metadata": {},
   "source": [
    "# Load and explore the annotations"
   ]
  },
  {
   "cell_type": "code",
   "execution_count": 32,
   "metadata": {},
   "outputs": [
    {
     "data": {
      "text/html": [
       "<div>\n",
       "<style scoped>\n",
       "    .dataframe tbody tr th:only-of-type {\n",
       "        vertical-align: middle;\n",
       "    }\n",
       "\n",
       "    .dataframe tbody tr th {\n",
       "        vertical-align: top;\n",
       "    }\n",
       "\n",
       "    .dataframe thead th {\n",
       "        text-align: right;\n",
       "    }\n",
       "</style>\n",
       "<table border=\"1\" class=\"dataframe\">\n",
       "  <thead>\n",
       "    <tr style=\"text-align: right;\">\n",
       "      <th></th>\n",
       "      <th>Filename</th>\n",
       "      <th>Width</th>\n",
       "      <th>Height</th>\n",
       "      <th>Roi.X1</th>\n",
       "      <th>Roi.Y1</th>\n",
       "      <th>Roi.X2</th>\n",
       "      <th>Roi.Y2</th>\n",
       "      <th>ClassId</th>\n",
       "    </tr>\n",
       "  </thead>\n",
       "  <tbody>\n",
       "    <tr>\n",
       "      <th>0</th>\n",
       "      <td>00000.ppm</td>\n",
       "      <td>53</td>\n",
       "      <td>54</td>\n",
       "      <td>6</td>\n",
       "      <td>5</td>\n",
       "      <td>48</td>\n",
       "      <td>49</td>\n",
       "      <td>16</td>\n",
       "    </tr>\n",
       "    <tr>\n",
       "      <th>1</th>\n",
       "      <td>00001.ppm</td>\n",
       "      <td>42</td>\n",
       "      <td>45</td>\n",
       "      <td>5</td>\n",
       "      <td>5</td>\n",
       "      <td>36</td>\n",
       "      <td>40</td>\n",
       "      <td>1</td>\n",
       "    </tr>\n",
       "    <tr>\n",
       "      <th>2</th>\n",
       "      <td>00002.ppm</td>\n",
       "      <td>48</td>\n",
       "      <td>52</td>\n",
       "      <td>6</td>\n",
       "      <td>6</td>\n",
       "      <td>43</td>\n",
       "      <td>47</td>\n",
       "      <td>38</td>\n",
       "    </tr>\n",
       "    <tr>\n",
       "      <th>3</th>\n",
       "      <td>00003.ppm</td>\n",
       "      <td>27</td>\n",
       "      <td>29</td>\n",
       "      <td>5</td>\n",
       "      <td>5</td>\n",
       "      <td>22</td>\n",
       "      <td>24</td>\n",
       "      <td>33</td>\n",
       "    </tr>\n",
       "    <tr>\n",
       "      <th>4</th>\n",
       "      <td>00004.ppm</td>\n",
       "      <td>60</td>\n",
       "      <td>57</td>\n",
       "      <td>5</td>\n",
       "      <td>5</td>\n",
       "      <td>55</td>\n",
       "      <td>52</td>\n",
       "      <td>11</td>\n",
       "    </tr>\n",
       "  </tbody>\n",
       "</table>\n",
       "</div>"
      ],
      "text/plain": [
       "    Filename  Width  Height  Roi.X1  Roi.Y1  Roi.X2  Roi.Y2  ClassId\n",
       "0  00000.ppm     53      54       6       5      48      49       16\n",
       "1  00001.ppm     42      45       5       5      36      40        1\n",
       "2  00002.ppm     48      52       6       6      43      47       38\n",
       "3  00003.ppm     27      29       5       5      22      24       33\n",
       "4  00004.ppm     60      57       5       5      55      52       11"
      ]
     },
     "execution_count": 32,
     "metadata": {},
     "output_type": "execute_result"
    }
   ],
   "source": [
    "import pandas as pd\n",
    "\n",
    "annotation_file = './data/GT-final_test.csv'\n",
    "test_df = pd.read_csv(annotation_file, sep=';')\n",
    "test_df.head()"
   ]
  },
  {
   "cell_type": "code",
   "execution_count": 33,
   "metadata": {},
   "outputs": [
    {
     "name": "stdout",
     "output_type": "stream",
     "text": [
      "Size of final test classes: 12630\n"
     ]
    }
   ],
   "source": [
    "y_test_final = test_df['ClassId'].values\n",
    "print('Size of final test classes:', len(y_test_final))"
   ]
  },
  {
   "cell_type": "markdown",
   "metadata": {},
   "source": [
    "# Create final test data generator"
   ]
  },
  {
   "cell_type": "code",
   "execution_count": 34,
   "metadata": {},
   "outputs": [],
   "source": [
    "X_test_final = np.array(X_test_final)\n",
    "y_test_final = keras.utils.to_categorical(y_test_final)"
   ]
  },
  {
   "cell_type": "code",
   "execution_count": 41,
   "metadata": {},
   "outputs": [],
   "source": [
    "# All images will be rescaled by 1./255\n",
    "test_datagen = keras.preprocessing.image.ImageDataGenerator(rescale = 1./255)\n",
    "test_generator = test_datagen.flow(X_test_final, y_test_final, batch_size = batch_size)"
   ]
  },
  {
   "cell_type": "markdown",
   "metadata": {},
   "source": [
    "# Evaluate Testing"
   ]
  },
  {
   "cell_type": "code",
   "execution_count": 42,
   "metadata": {},
   "outputs": [],
   "source": [
    "test_loss, test_acc = model.evaluate_generator(test_generator)"
   ]
  },
  {
   "cell_type": "code",
   "execution_count": 43,
   "metadata": {},
   "outputs": [
    {
     "name": "stdout",
     "output_type": "stream",
     "text": [
      "Test Accuracy: 87.47%\n"
     ]
    }
   ],
   "source": [
    "print('Test Accuracy: {}%'.format(round(float(test_acc) * 100, 2)))"
   ]
  },
  {
   "cell_type": "markdown",
   "metadata": {},
   "source": [
    "The result of testing our model on unseen data is `87.47%` which is very low! There is therefore room for tweaking the model to obtain a better test score. One could try **batch normalization** and some **hyperparameter optimization**. There is no symtoms of *overfitting* so I won't try to combat any!"
   ]
  },
  {
   "cell_type": "markdown",
   "metadata": {},
   "source": [
    "# Save the model as a Keras model"
   ]
  },
  {
   "cell_type": "markdown",
   "metadata": {},
   "source": [
    "It's good practice to always save your best model and load it later for inferences!"
   ]
  },
  {
   "cell_type": "code",
   "execution_count": 50,
   "metadata": {},
   "outputs": [],
   "source": [
    "model_path = './model/model_GTSRB.h5'\n",
    "model.save(model_path)"
   ]
  },
  {
   "cell_type": "markdown",
   "metadata": {},
   "source": [
    "# Load model for prediction"
   ]
  },
  {
   "cell_type": "code",
   "execution_count": null,
   "metadata": {},
   "outputs": [],
   "source": [
    "GTSRB_model = keras.models.load_model(model_path)"
   ]
  }
 ],
 "metadata": {
  "kernelspec": {
   "display_name": "Python 3",
   "language": "python",
   "name": "python3"
  },
  "language_info": {
   "codemirror_mode": {
    "name": "ipython",
    "version": 3
   },
   "file_extension": ".py",
   "mimetype": "text/x-python",
   "name": "python",
   "nbconvert_exporter": "python",
   "pygments_lexer": "ipython3",
   "version": "3.7.6"
  }
 },
 "nbformat": 4,
 "nbformat_minor": 4
}
